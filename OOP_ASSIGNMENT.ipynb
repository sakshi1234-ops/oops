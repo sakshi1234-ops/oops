{
  "nbformat": 4,
  "nbformat_minor": 0,
  "metadata": {
    "colab": {
      "provenance": []
    },
    "kernelspec": {
      "name": "python3",
      "display_name": "Python 3"
    },
    "language_info": {
      "name": "python"
    }
  },
  "cells": [
    {
      "cell_type": "markdown",
      "source": [
        "THEORY QUESTIONS"
      ],
      "metadata": {
        "id": "-aR7YG3GkU_M"
      }
    },
    {
      "cell_type": "markdown",
      "source": [
        "Q1   What is object oriented programming?\n",
        "Ans   - Object oriented programming is a programming based on the concept of objects ,which are instances of classes .it allow developers to structure the programmes using reusable and modular programme.\n",
        "\n",
        "\n",
        "Q2   What is a class in oop?\n",
        "Ans   -In object oriented programming a class is a blueprint or template for creating objets.it defines the struture and behaviour that the objects created from the class will have.\n",
        "\n",
        "\n",
        "Q3   What is an object in oop?\n",
        "Ans   -In object oriented programming an object is an instance of a class.it is a real world entity or a virtual representation that contain data(attributes) and behavior(method) as define by class.\n",
        "\n",
        "\n",
        "Q4   What is the diifernce between abstraction and encapulation?\n",
        "Ans   -They both are the fundamental concepts in oop but have different purposes.here the comparison:\n",
        "1)Abstraction\n",
        "  -Hide implimentation details and show only essentials features.\n",
        "  -it can be achieved using abstract classes,interfaces etc.\n",
        "  -it simplifies complexity for the user.\n",
        "2)Encapulation\n",
        "  -Hide internal state and protects data through accessed control.\n",
        "  -It focuses on how the object is implimented and accessed securely.\n",
        "  -its purpose is the safegaurd object data and ensure proper usage.\n",
        "\n",
        "\n",
        "Q5   What are dunder methods in python?\n",
        "Ans   -Dunder method in python are special methods that allow you to define the behavior of object in certain situations.these methods are also known as special methods or magic methods and are prefixed and suffixed with double underscore.(ex-_int_,_str_,_add_)\n",
        "\n",
        "\n",
        "Q6   Explain the cocept of inheritance in oop?\n",
        "Ans   -inheritance is a fundamental concept in oop that allow one class (child class or sub class) to inherit the properties and behaviour of another class(called the present class or subclass).it unables code reusability and the ability to extend or customize behavior.\n",
        "       -Some concepts are 1)parent class 2)child class 3)reusability 4)method overreading 5)hierrachical relationship.\n",
        "\n",
        "\n",
        "Q7   What is polymorphism in oop?\n",
        "Ans   -Polymorphism is a core concept in oop that allows objects of different classes to be treated as object of a common subclass.\n",
        "\n",
        "\n",
        "Q8   How is encapsulation is achieved in python?\n",
        "Ans   -encapsulation is an oop concept the restricts access to certain parts of an object to protect its internal state and behavior.it is achieved by bundling.\n",
        "\n",
        "\n",
        "Q9   What is constructor in python?\n",
        "Ans   -A constructor in python is a special method used to initializean object attributes when the object is created.it is automatically called when a new instances of a class is instantiated in python,the constructor method is named _int_ which stands for initialize.\n",
        "\n",
        "\n",
        "Q10   What are class and static methods in python?\n",
        "Ans    -A class method is a method that is bound to the class and not the instance of the class.it takes the class itself as the first argument rather than the instance(self).\n",
        "       -A static method is a method that does not take self or cls as its first\n",
        "argument.it neither accesses the instance nor the class.it is a regular function that belongs to a class and is typically used when the functionality is logical related to the class.\n",
        "\n",
        "\n",
        "Q11   What is method overloading in python?\n",
        "Ans    -Method overloading refers to the ability of a method in a class to perform different task based on the number or type of arguments passed to it.it allows multiple methods with the same name but different parameters.\n",
        "       -However,python doesnot support method overloading directly.\n",
        "\n",
        "\n",
        "Q12   What is method overriding in oop?\n",
        "Ans    -Method overriding is a feature in oop where a subclass provides a specific implementation of a method that is already defined in its parent class.\n",
        "\n",
        "\n",
        "Q13   What is property decorator in python?\n",
        "Ans    -The property decorator in python is used to define a method as a getter for an attribute in an object oriented way.It allows you to access a method as if it were an attribute.\n",
        "\n",
        "\n",
        "Q14   Why is polymorphism is important in oop?\n",
        "Ans    -Polymorphism is important in oop due several reasons:\n",
        "1)CODE REUSABILITY:Polymorphism allows developers to write flexible and reusable code.\n",
        "2)EXTENSIBILITY:You can extend functionality without modifying existing code.new subclass can be added.\n",
        "3)SIMPLIFIED CODE:Using polymorphism reduces the need for complex if-else or switch-case constructs,by which code are much simplified.\n",
        "4)FACILITATES INTERFACE DESIGN:Polymorphism is the foundation for designing flexible and extensible interfaces.it allows multiple classes to share a common interface while providing their own implimentations.\n",
        "\n",
        "\n",
        "Q15   What is an abstract class in python?\n",
        "ANS    -An abstract class in python is a class that cannot be instantiated directly and serves as a blueprint for other classes.abstract classes typically define one or more abstract methods that must be implemented by any subclass.\n",
        "-Abstract classes are used to enforce a common interface or structure for subclass.\n",
        "\n",
        "\n",
        "Q16   What ar the advantages of oop?\n",
        "ANS    -There are several advantages of oop:\n",
        "1)REUSABILITY:Classes and objects can be reused across different part of application.\n",
        "2)MODULARITY:Code is organized into smaller,manageable chunks.\n",
        "3)SCALABILITY:Easier to extend and maintain as the system grows.\n",
        "\n",
        "\n",
        "Q17   What is multiple inheritance in python?\n",
        "Ans    -Multiple inheritance is a feature in oop where a class can inherit from more than one parent class.In python,this means a subclass can inherit attributes and methods from multiple base classes.\n",
        "\n",
        "\n",
        "Q18   What is the differnce between a class variable and an instance variable.\n",
        "Ans    -CLASS VARIABLE:\n",
        "1)A class variable is shared among all the instances of a class.it is defined directly within the class and outside any method.\n",
        "2)It belongs to the class itself and is shared by all instances of the class.\n",
        "3)Often used to store data that is common across all instances.\n",
        "-INSTANCE VARIABLE:\n",
        "1)An instance variable is unique to each instance of a class.it is defined inside inside methods and is prefixed with self.\n",
        "2)It belongs to an specific object(instance) of the class.\n",
        "3)Used to store data specific to an instance.\n",
        "\n",
        "\n",
        "Q19   Explain the purpose of \"_ _str_ _and_ _repr_ _\" methods in python.\n",
        "Ans    -In python the _str_and_repr_methods are special or dunder methods that define how objects of a class are represented as strings.\n",
        "-_str_method: the_str_method is used to define a user-friendly,readable string representation of an object.it is typically called by function like str().\n",
        "-_repr_method: the_repr_method is used to define an unambiguous string representation of an onject.\n",
        "\n",
        "\n",
        "Q20   What is the significance of the \"super()\"function in python.\n",
        "Ans    -The super() function in python is used to give access to methods and properties of a parent.it is commenly used in the context of inheritance,especially in oop,to call a parent class methods or constructor from a child class.\n",
        "\n",
        "\n",
        "Q21   What is the significance of the _del_method in python?\n",
        "Ans    -the _del_method in python is a destructor method that is automatically called when an object is about to be destroyed or garbage collected.it is used for cleaning up resources or performing any necessary finalization before the object is removes from the memory.\n",
        "\n",
        "\n",
        "Q22   What is the differnce between @staticmethod and @classmethod in python?\n",
        "Ans    -CLASS METHOD:\n",
        "1)A class method is a method that is bound to the class and not the instance of the class.it takes the class itself as the first argument rather than the instance(self).\n",
        "2)Its usecase is to perform operations that affects the class itself.\n",
        "\n",
        "-STATIC METHOD:\n",
        "1)A static method is a method that doesnot take self or cls as its first argument.it is a regular function that belongs to a class.\n",
        "2)it is used when no instance or class-related data is required.\n",
        "\n",
        "\n",
        "Q23   How does polymorphism work in python with inheritance?\n",
        "ANS    -Polymorphism work with inheritancein the way as:\n",
        "1)METHOD OVERRIDING:\n",
        "A child class can override methods of the parent class,which is a key mechanism for achieving polymorphim in python.\n",
        "2)DYNAMIC METHOD RESOLUTION:\n",
        "The method that gets called is determined at runtime,which is why polymorphism is sometimes referred to as /dynamic dispatch/ or /late binding/.\n",
        "\n",
        "\n",
        "Q24   What is method chaining in python oop?\n",
        "Ans    -Method chaining is a programming technique in object-oriented programming.where multiple methods are called on the same object in a single line of code.this is possible because each method return the object itself,allowing subsequuent method to be called on that same object without needing to reference it again.\n",
        "-In python,method chaining is commonly used to perform a series of operations on an object in a fluen,readable way.\n",
        "\n",
        "\n",
        "Q25   What is the purpose of the _call_ method in python?\n",
        "Ans    -The _call_ method in python is a special method that allows an instance of a class to be called like a function.this means that if you define a _call_method in a class,objects of that class can be invoked directly using parentheses() as if they were functions."
      ],
      "metadata": {
        "id": "ld8dkrdoknA6"
      }
    },
    {
      "cell_type": "markdown",
      "source": [
        "PRACTICLE QUESTION"
      ],
      "metadata": {
        "id": "P3PkyLMXs0nT"
      }
    },
    {
      "cell_type": "code",
      "execution_count": 2,
      "metadata": {
        "id": "k1evoKjMkPct"
      },
      "outputs": [],
      "source": [
        "#1 Create a parent class animal with a method speak() that prints a generic message.create a child class dog that overrides the speak() method to print \"bark!\".\n",
        "class animal:\n",
        "    def speak(self):\n",
        "        print(\"generic message\")\n",
        "class dog(animal):\n",
        "    def speak(self):\n",
        "        print(\"bark!\")\n"
      ]
    },
    {
      "cell_type": "code",
      "source": [],
      "metadata": {
        "id": "ceUyG9BGvZVk"
      },
      "execution_count": null,
      "outputs": []
    },
    {
      "cell_type": "code",
      "source": [
        "#2 Write a programme to create an abstract class shape with a method area().derive classes circle and rectangle from it and implement the area()method in both.\n",
        "from abc import ABC,abstractmethod\n",
        "class shape(ABC):\n",
        "    @abstractmethod\n",
        "    def area(self):\n",
        "        pass\n"
      ],
      "metadata": {
        "id": "Kqt__iWMuf1_"
      },
      "execution_count": 3,
      "outputs": []
    },
    {
      "cell_type": "code",
      "source": [
        "#3 implement a multi-level inheritance scenario where a class vehical has an attribute type.drive a class car and further derive a class electriccar that adds a battery attribute.\n",
        "class vehicle:\n",
        "    def __init__(self,type):\n",
        "        self.type=type"
      ],
      "metadata": {
        "id": "eeiPFA-BugDV"
      },
      "execution_count": 1,
      "outputs": []
    },
    {
      "cell_type": "code",
      "source": [
        "#5 Write a programme to demonstrate encapsulation by creating a class bankaccount with private attributes balance and methods to deposit,withdraw,and check balance.\n",
        "class bankaccount:\n",
        "    def __init__(self,balance):\n",
        "        self.__balance=balance"
      ],
      "metadata": {
        "id": "r7LG-xD8ugHv"
      },
      "execution_count": 2,
      "outputs": []
    },
    {
      "cell_type": "code",
      "source": [
        "#6 demonstrate runtime polymorphism using a method play() in a base class instrument.derive classes guitar and piano that implement their own version of play().\n",
        "class instrument:\n",
        "    def play(self):\n",
        "        print(\"generic sound\")\n",
        "class guitar(instrument):\n",
        "    def play(self):\n",
        "        print(\"guitar sound\")\n",
        "class piano(instrument):\n",
        "    def play(self):\n",
        "        print(\"piano sound\")"
      ],
      "metadata": {
        "id": "UNI0OuT9ugLs"
      },
      "execution_count": 3,
      "outputs": []
    },
    {
      "cell_type": "code",
      "source": [
        "#7 Create a class mathoperations with a class method add_numbers() to add two numbers and a static method subtract_numbers() to substract two numbers.\n",
        "class mathoperations:\n",
        "    @classmethod\n",
        "    def add_numbers(cls,a,b):\n",
        "        return a+b\n",
        "    @staticmethod\n",
        "    def subtract_numbers(a,b):\n",
        "        return a-b"
      ],
      "metadata": {
        "id": "SwVd1Ku8ugPy"
      },
      "execution_count": 4,
      "outputs": []
    },
    {
      "cell_type": "code",
      "source": [
        "#8 Implement a class person with a class method to count the total number of persons created.\n",
        "class person:\n",
        "    count=0\n",
        "    def __init__(self):\n",
        "        person.count+=1\n",
        "    @classmethod\n",
        "    def total_persons(cls):\n",
        "        return cls.count"
      ],
      "metadata": {
        "id": "ulWDX1IFugTe"
      },
      "execution_count": 5,
      "outputs": []
    },
    {
      "cell_type": "code",
      "source": [
        "#9 Write a class fraction with attributes nemerator and denominator.override the str method to display the fraction as \"numerator/denominator\".\n",
        "class fraction:\n",
        "    def __init__(self,numerator,denominator):\n",
        "        self.numerator=numerator\n",
        "        self.denominator=denominator\n",
        "    def __str__(self):\n",
        "        return f\"{self.numerator}/{self.denominator}\""
      ],
      "metadata": {
        "id": "18yJeqsdugXW"
      },
      "execution_count": 6,
      "outputs": []
    },
    {
      "cell_type": "code",
      "source": [
        "#10 Demonstrate operator overloading by creating a class vector and overriding the add method to add two vectors.\n",
        "class vector:\n",
        "  def __init__(self,x,y):\n",
        "    self.x=x\n",
        "    self.y=y\n",
        "\n",
        "  def __add__(self,other):\n",
        "    return vector(self.x+other.x,self.y+other.y)\n",
        "\n",
        "  def _add_(self,other):\n",
        "    return vector(self.x+other.x,self.y+other.y)\n",
        "\n",
        "  def __add__(self,other):\n",
        "    return vector(self.x+other.x,self.y+other.y)\n",
        "\n",
        "  def __add__(self,other):\n",
        "    return vector(self.x+other.x,self.y+other.y)"
      ],
      "metadata": {
        "id": "iw65QCUvugbg"
      },
      "execution_count": 16,
      "outputs": []
    },
    {
      "cell_type": "code",
      "source": [
        "#11 Create a class person with attributes name and age.add a method greet() that prints \"hello\",my name is (name) amd I m (age) years old.\n",
        "class person:\n",
        "    def __init__(self,name,age):\n",
        "        self.name=name\n",
        "        self.age=age"
      ],
      "metadata": {
        "id": "OjQseopqEwvV"
      },
      "execution_count": 1,
      "outputs": []
    },
    {
      "cell_type": "code",
      "source": [
        "#12 Implement a class student with attributes name and grades. create a method average_grade() to compute thee average of the grades.\n",
        "class student:\n",
        "    def _init_(self,name,grades):\n",
        "        self,name=name\n",
        "        self.grades=grades\n",
        "    def average_grade(self):\n",
        "        return sum(self.grades)/len(self.grades)"
      ],
      "metadata": {
        "id": "mgQdY3sNEwzU"
      },
      "execution_count": 2,
      "outputs": []
    },
    {
      "cell_type": "code",
      "source": [
        "#13 Create a class rectangle with method set_dimensions() to set the dimension and area() to calculate the area.\n",
        "class rectangle:\n",
        "    def set_dimensions(self,length,width):\n",
        "        self.length=length\n",
        "        self.width=width\n",
        "    def area(self):\n",
        "        return self.length*self.width"
      ],
      "metadata": {
        "id": "NX_hj6dcEw3n"
      },
      "execution_count": 3,
      "outputs": []
    },
    {
      "cell_type": "code",
      "source": [
        "#14 create a class employee with a method calculate_salary() that computes the salary based on hours worked and hourly rate.create a derived class manager that adds a bonus to the salary.\n",
        "class employee:\n",
        "    def calculate_salary(self,hours_worked,hourly_rate):\n",
        "        return hours_worked*hourly_rate"
      ],
      "metadata": {
        "id": "T0naI1ESEw68"
      },
      "execution_count": 4,
      "outputs": []
    },
    {
      "cell_type": "code",
      "source": [
        "#15 create a class product with attributes name,price,quantity.implement a method total_price() that calculate the total price of the product.\n",
        "class product:\n",
        "    def __init__(self,name,price,quantity):\n",
        "        self.name=name\n",
        "        self.price=price\n",
        "        self.quantity=quantity\n",
        "    def total_price(self):\n",
        "        return self.price*self.quantity\n"
      ],
      "metadata": {
        "id": "izv1waIjy-iz"
      },
      "execution_count": 5,
      "outputs": []
    },
    {
      "cell_type": "code",
      "source": [
        "#16 Create a class animal with an abstract method sound(). create to derived classes cow and sheep that implement the sound method().\n",
        "from abc import ABC,abstractmethod\n",
        "class animal(ABC):\n",
        "    @abstractmethod\n",
        "    def sound(self):\n",
        "        pass\n",
        "class cow(animal):\n",
        "    def sound(self):\n",
        "        print(\"moo\")\n",
        "class sheep(animal):\n",
        "    def sound(self):\n",
        "        print(\"baa\")"
      ],
      "metadata": {
        "id": "dUrJ291fy-qe"
      },
      "execution_count": 6,
      "outputs": []
    },
    {
      "cell_type": "code",
      "source": [
        "#17 Create a class book with attributes title,author,and year_publised.add a method get_book_info() that return a formatted string with the books details.\n",
        "class book:\n",
        "    def get_book_info(self):\n",
        "        return f\"Title: {self.title}, Author: {self.author}, Year Published: {self.year_published}\"\n",
        "        self.title=title\n",
        "        self.author=author\n",
        "        self.year_published=year_published"
      ],
      "metadata": {
        "id": "HZuvZlEGy-6v"
      },
      "execution_count": 17,
      "outputs": []
    },
    {
      "cell_type": "code",
      "source": [
        "#18 Create a class house with attributes address and price.create a derived class mansion that adds an attribute number_of_rooms.\n",
        "class house:\n",
        "    def __init__(self,address,price):\n",
        "        self.address=address\n",
        "        self.price=price"
      ],
      "metadata": {
        "id": "WGLw9tdLy_hE"
      },
      "execution_count": 18,
      "outputs": []
    }
  ]
}